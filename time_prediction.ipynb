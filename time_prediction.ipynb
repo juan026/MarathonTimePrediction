{
 "cells": [
  {
   "cell_type": "code",
   "execution_count": 425,
   "metadata": {},
   "outputs": [],
   "source": [
    "import pandas as pd\n",
    "import numpy as np\n",
    "\n",
    "from sklearn.model_selection import train_test_split\n",
    "from sklearn.preprocessing import LabelEncoder\n",
    "from sklearn.model_selection import train_test_split\n",
    "from catboost import CatBoostRegressor\n",
    "from sklearn.metrics import r2_score, mean_absolute_error, mean_squared_error, make_scorer"
   ]
  },
  {
   "cell_type": "code",
   "execution_count": 426,
   "metadata": {},
   "outputs": [],
   "source": [
    "# define mean error scorer\n",
    "\n",
    "def mean_error_(y_true, y_pred):\n",
    "    \"\"\"It assumes y_true and y_pred are numpy arrays. \n",
    "   \n",
    "    Parameters\n",
    "    ----------\n",
    "    y_true : numpy array \n",
    "        Ground truth labels\n",
    "    y_pred : numpy array \n",
    "        model predictions\n",
    "    \n",
    "\n",
    "    Returns\n",
    "    -------\n",
    "    MA : float\n",
    "\n",
    "        MA(Mean Error): over-predicting when MA > 0 or under-predicting when MA < 0.\n",
    "\n",
    "    \"\"\"\n",
    "    return np.mean(y_pred-y_true)\n",
    "\n",
    "# define score for model trainer\n",
    "mean_error_scorer = make_scorer(mean_error_, greater_is_better=False)\n"
   ]
  },
  {
   "cell_type": "code",
   "execution_count": 427,
   "metadata": {},
   "outputs": [
    {
     "data": {
      "text/html": [
       "<div>\n",
       "<style scoped>\n",
       "    .dataframe tbody tr th:only-of-type {\n",
       "        vertical-align: middle;\n",
       "    }\n",
       "\n",
       "    .dataframe tbody tr th {\n",
       "        vertical-align: top;\n",
       "    }\n",
       "\n",
       "    .dataframe thead th {\n",
       "        text-align: right;\n",
       "    }\n",
       "</style>\n",
       "<table border=\"1\" class=\"dataframe\">\n",
       "  <thead>\n",
       "    <tr style=\"text-align: right;\">\n",
       "      <th></th>\n",
       "      <th>id</th>\n",
       "      <th>Marathon</th>\n",
       "      <th>Name</th>\n",
       "      <th>Category</th>\n",
       "      <th>km4week</th>\n",
       "      <th>sp4week</th>\n",
       "      <th>CrossTraining</th>\n",
       "      <th>Wall21</th>\n",
       "      <th>MarathonTime</th>\n",
       "      <th>CATEGORY</th>\n",
       "    </tr>\n",
       "  </thead>\n",
       "  <tbody>\n",
       "    <tr>\n",
       "      <th>0</th>\n",
       "      <td>1</td>\n",
       "      <td>Prague17</td>\n",
       "      <td>Blair MORGAN</td>\n",
       "      <td>MAM</td>\n",
       "      <td>132.8</td>\n",
       "      <td>14.434783</td>\n",
       "      <td>NaN</td>\n",
       "      <td>1.16</td>\n",
       "      <td>2.37</td>\n",
       "      <td>A</td>\n",
       "    </tr>\n",
       "    <tr>\n",
       "      <th>1</th>\n",
       "      <td>2</td>\n",
       "      <td>Prague17</td>\n",
       "      <td>Robert Heczko</td>\n",
       "      <td>MAM</td>\n",
       "      <td>68.6</td>\n",
       "      <td>13.674419</td>\n",
       "      <td>NaN</td>\n",
       "      <td>1.23</td>\n",
       "      <td>2.59</td>\n",
       "      <td>A</td>\n",
       "    </tr>\n",
       "    <tr>\n",
       "      <th>2</th>\n",
       "      <td>3</td>\n",
       "      <td>Prague17</td>\n",
       "      <td>Michon Jerome</td>\n",
       "      <td>MAM</td>\n",
       "      <td>82.7</td>\n",
       "      <td>13.520436</td>\n",
       "      <td>NaN</td>\n",
       "      <td>1.30</td>\n",
       "      <td>2.66</td>\n",
       "      <td>A</td>\n",
       "    </tr>\n",
       "    <tr>\n",
       "      <th>3</th>\n",
       "      <td>4</td>\n",
       "      <td>Prague17</td>\n",
       "      <td>Daniel Or lek</td>\n",
       "      <td>M45</td>\n",
       "      <td>137.5</td>\n",
       "      <td>12.258544</td>\n",
       "      <td>NaN</td>\n",
       "      <td>1.32</td>\n",
       "      <td>2.68</td>\n",
       "      <td>A</td>\n",
       "    </tr>\n",
       "    <tr>\n",
       "      <th>4</th>\n",
       "      <td>5</td>\n",
       "      <td>Prague17</td>\n",
       "      <td>Luk ? Mr zek</td>\n",
       "      <td>MAM</td>\n",
       "      <td>84.6</td>\n",
       "      <td>13.945055</td>\n",
       "      <td>NaN</td>\n",
       "      <td>1.36</td>\n",
       "      <td>2.74</td>\n",
       "      <td>A</td>\n",
       "    </tr>\n",
       "  </tbody>\n",
       "</table>\n",
       "</div>"
      ],
      "text/plain": [
       "   id  Marathon           Name Category  km4week    sp4week CrossTraining   \n",
       "0   1  Prague17   Blair MORGAN      MAM    132.8  14.434783           NaN  \\\n",
       "1   2  Prague17  Robert Heczko      MAM     68.6  13.674419           NaN   \n",
       "2   3  Prague17  Michon Jerome      MAM     82.7  13.520436           NaN   \n",
       "3   4  Prague17  Daniel Or lek      M45    137.5  12.258544           NaN   \n",
       "4   5  Prague17   Luk ? Mr zek      MAM     84.6  13.945055           NaN   \n",
       "\n",
       "  Wall21  MarathonTime CATEGORY  \n",
       "0   1.16          2.37        A  \n",
       "1   1.23          2.59        A  \n",
       "2   1.30          2.66        A  \n",
       "3   1.32          2.68        A  \n",
       "4   1.36          2.74        A  "
      ]
     },
     "execution_count": 427,
     "metadata": {},
     "output_type": "execute_result"
    }
   ],
   "source": [
    "# load dataframe dataset and print first rows\n",
    "df = pd.read_csv(\"MarathonData.csv\")\n",
    "df.head()"
   ]
  },
  {
   "cell_type": "code",
   "execution_count": 428,
   "metadata": {},
   "outputs": [
    {
     "data": {
      "text/plain": [
       "(87, 10)"
      ]
     },
     "execution_count": 428,
     "metadata": {},
     "output_type": "execute_result"
    }
   ],
   "source": [
    "# Print shape\n",
    "df.shape"
   ]
  },
  {
   "cell_type": "code",
   "execution_count": 429,
   "metadata": {},
   "outputs": [
    {
     "name": "stdout",
     "output_type": "stream",
     "text": [
      "<class 'pandas.core.frame.DataFrame'>\n",
      "RangeIndex: 87 entries, 0 to 86\n",
      "Data columns (total 10 columns):\n",
      " #   Column         Non-Null Count  Dtype  \n",
      "---  ------         --------------  -----  \n",
      " 0   id             87 non-null     int64  \n",
      " 1   Marathon       87 non-null     object \n",
      " 2   Name           87 non-null     object \n",
      " 3   Category       81 non-null     object \n",
      " 4   km4week        87 non-null     float64\n",
      " 5   sp4week        87 non-null     float64\n",
      " 6   CrossTraining  13 non-null     object \n",
      " 7   Wall21         87 non-null     object \n",
      " 8   MarathonTime   87 non-null     float64\n",
      " 9   CATEGORY       87 non-null     object \n",
      "dtypes: float64(3), int64(1), object(6)\n",
      "memory usage: 6.9+ KB\n"
     ]
    }
   ],
   "source": [
    "# Print a summary of the dataframe\n",
    "df.info()"
   ]
  },
  {
   "cell_type": "code",
   "execution_count": 430,
   "metadata": {},
   "outputs": [
    {
     "data": {
      "text/html": [
       "<div>\n",
       "<style scoped>\n",
       "    .dataframe tbody tr th:only-of-type {\n",
       "        vertical-align: middle;\n",
       "    }\n",
       "\n",
       "    .dataframe tbody tr th {\n",
       "        vertical-align: top;\n",
       "    }\n",
       "\n",
       "    .dataframe thead th {\n",
       "        text-align: right;\n",
       "    }\n",
       "</style>\n",
       "<table border=\"1\" class=\"dataframe\">\n",
       "  <thead>\n",
       "    <tr style=\"text-align: right;\">\n",
       "      <th></th>\n",
       "      <th>id</th>\n",
       "      <th>km4week</th>\n",
       "      <th>sp4week</th>\n",
       "      <th>MarathonTime</th>\n",
       "    </tr>\n",
       "  </thead>\n",
       "  <tbody>\n",
       "    <tr>\n",
       "      <th>count</th>\n",
       "      <td>87.000000</td>\n",
       "      <td>87.000000</td>\n",
       "      <td>87.000000</td>\n",
       "      <td>87.000000</td>\n",
       "    </tr>\n",
       "    <tr>\n",
       "      <th>mean</th>\n",
       "      <td>44.000000</td>\n",
       "      <td>62.347126</td>\n",
       "      <td>139.840706</td>\n",
       "      <td>3.319080</td>\n",
       "    </tr>\n",
       "    <tr>\n",
       "      <th>std</th>\n",
       "      <td>25.258662</td>\n",
       "      <td>26.956019</td>\n",
       "      <td>1191.427864</td>\n",
       "      <td>0.376923</td>\n",
       "    </tr>\n",
       "    <tr>\n",
       "      <th>min</th>\n",
       "      <td>1.000000</td>\n",
       "      <td>17.900000</td>\n",
       "      <td>8.031414</td>\n",
       "      <td>2.370000</td>\n",
       "    </tr>\n",
       "    <tr>\n",
       "      <th>25%</th>\n",
       "      <td>22.500000</td>\n",
       "      <td>44.200000</td>\n",
       "      <td>11.498168</td>\n",
       "      <td>3.045000</td>\n",
       "    </tr>\n",
       "    <tr>\n",
       "      <th>50%</th>\n",
       "      <td>44.000000</td>\n",
       "      <td>58.800000</td>\n",
       "      <td>12.163424</td>\n",
       "      <td>3.320000</td>\n",
       "    </tr>\n",
       "    <tr>\n",
       "      <th>75%</th>\n",
       "      <td>65.500000</td>\n",
       "      <td>77.500000</td>\n",
       "      <td>12.854036</td>\n",
       "      <td>3.605000</td>\n",
       "    </tr>\n",
       "    <tr>\n",
       "      <th>max</th>\n",
       "      <td>87.000000</td>\n",
       "      <td>137.500000</td>\n",
       "      <td>11125.000000</td>\n",
       "      <td>3.980000</td>\n",
       "    </tr>\n",
       "  </tbody>\n",
       "</table>\n",
       "</div>"
      ],
      "text/plain": [
       "              id     km4week       sp4week  MarathonTime\n",
       "count  87.000000   87.000000     87.000000     87.000000\n",
       "mean   44.000000   62.347126    139.840706      3.319080\n",
       "std    25.258662   26.956019   1191.427864      0.376923\n",
       "min     1.000000   17.900000      8.031414      2.370000\n",
       "25%    22.500000   44.200000     11.498168      3.045000\n",
       "50%    44.000000   58.800000     12.163424      3.320000\n",
       "75%    65.500000   77.500000     12.854036      3.605000\n",
       "max    87.000000  137.500000  11125.000000      3.980000"
      ]
     },
     "execution_count": 430,
     "metadata": {},
     "output_type": "execute_result"
    }
   ],
   "source": [
    "# Print statistics of the dataframe\n",
    "df.describe()"
   ]
  },
  {
   "cell_type": "code",
   "execution_count": 431,
   "metadata": {},
   "outputs": [
    {
     "data": {
      "text/plain": [
       "array(['1.16', '1.23', '1.30', '1.32', '1.36', '1.38', '1.41', '1.35',\n",
       "       '1.42', '1.40', '1.37', '1.44', '1.45', '1.50', '1.48', '1.52',\n",
       "       ' -   ', '1.54', '1.57', '1.62', '1.60', '1.51', '1.58', '1.56',\n",
       "       '1.61', '1.59', '1.68', '1.78', '1.67', '1.66', '1.55', '1.64',\n",
       "       '1.65', '1.77', '1.71', '1.72', '1.76', '1.63', '1.69', '1.88',\n",
       "       '1.93', '1.74', '1.75', '1.80', '1.81', '1.94', '1.90', '1.85',\n",
       "       '1.97', '1.98', '2.05', '2.02'], dtype=object)"
      ]
     },
     "execution_count": 431,
     "metadata": {},
     "output_type": "execute_result"
    }
   ],
   "source": [
    "# Unique values for Wall21 Colunmns\n",
    "# Here we can see some '-' values\n",
    "df['Wall21'].unique()"
   ]
  },
  {
   "cell_type": "code",
   "execution_count": 432,
   "metadata": {},
   "outputs": [
    {
     "data": {
      "text/plain": [
       "array(['MAM', 'M45', 'M40', 'M50', 'M55', nan, 'WAM'], dtype=object)"
      ]
     },
     "execution_count": 432,
     "metadata": {},
     "output_type": "execute_result"
    }
   ],
   "source": [
    "# Print unique categories values from this column\n",
    "# we have a nan rows values\n",
    "df['Category'].unique()"
   ]
  },
  {
   "cell_type": "code",
   "execution_count": 433,
   "metadata": {},
   "outputs": [
    {
     "data": {
      "text/html": [
       "<div>\n",
       "<style scoped>\n",
       "    .dataframe tbody tr th:only-of-type {\n",
       "        vertical-align: middle;\n",
       "    }\n",
       "\n",
       "    .dataframe tbody tr th {\n",
       "        vertical-align: top;\n",
       "    }\n",
       "\n",
       "    .dataframe thead th {\n",
       "        text-align: right;\n",
       "    }\n",
       "</style>\n",
       "<table border=\"1\" class=\"dataframe\">\n",
       "  <thead>\n",
       "    <tr style=\"text-align: right;\">\n",
       "      <th></th>\n",
       "      <th>Category</th>\n",
       "      <th>km4week</th>\n",
       "      <th>sp4week</th>\n",
       "      <th>Wall21</th>\n",
       "      <th>MarathonTime</th>\n",
       "      <th>CATEGORY</th>\n",
       "    </tr>\n",
       "  </thead>\n",
       "  <tbody>\n",
       "    <tr>\n",
       "      <th>0</th>\n",
       "      <td>MAM</td>\n",
       "      <td>132.8</td>\n",
       "      <td>14.434783</td>\n",
       "      <td>1.16</td>\n",
       "      <td>2.37</td>\n",
       "      <td>A</td>\n",
       "    </tr>\n",
       "    <tr>\n",
       "      <th>1</th>\n",
       "      <td>MAM</td>\n",
       "      <td>68.6</td>\n",
       "      <td>13.674419</td>\n",
       "      <td>1.23</td>\n",
       "      <td>2.59</td>\n",
       "      <td>A</td>\n",
       "    </tr>\n",
       "    <tr>\n",
       "      <th>2</th>\n",
       "      <td>MAM</td>\n",
       "      <td>82.7</td>\n",
       "      <td>13.520436</td>\n",
       "      <td>1.30</td>\n",
       "      <td>2.66</td>\n",
       "      <td>A</td>\n",
       "    </tr>\n",
       "    <tr>\n",
       "      <th>3</th>\n",
       "      <td>M45</td>\n",
       "      <td>137.5</td>\n",
       "      <td>12.258544</td>\n",
       "      <td>1.32</td>\n",
       "      <td>2.68</td>\n",
       "      <td>A</td>\n",
       "    </tr>\n",
       "    <tr>\n",
       "      <th>4</th>\n",
       "      <td>MAM</td>\n",
       "      <td>84.6</td>\n",
       "      <td>13.945055</td>\n",
       "      <td>1.36</td>\n",
       "      <td>2.74</td>\n",
       "      <td>A</td>\n",
       "    </tr>\n",
       "  </tbody>\n",
       "</table>\n",
       "</div>"
      ],
      "text/plain": [
       "  Category  km4week    sp4week Wall21  MarathonTime CATEGORY\n",
       "0      MAM    132.8  14.434783   1.16          2.37        A\n",
       "1      MAM     68.6  13.674419   1.23          2.59        A\n",
       "2      MAM     82.7  13.520436   1.30          2.66        A\n",
       "3      M45    137.5  12.258544   1.32          2.68        A\n",
       "4      MAM     84.6  13.945055   1.36          2.74        A"
      ]
     },
     "execution_count": 433,
     "metadata": {},
     "output_type": "execute_result"
    }
   ],
   "source": [
    "# Drop unnecessary data (NaN info and string columns)\n",
    "drop_columns = ['id', 'Marathon', 'Name', 'CrossTraining']\n",
    "df.drop(columns=drop_columns, inplace=True)\n",
    "\n",
    "# Print first rows\n",
    "df.head()"
   ]
  },
  {
   "cell_type": "code",
   "execution_count": 434,
   "metadata": {},
   "outputs": [],
   "source": [
    "# Remove nan rows\n",
    "df.dropna(inplace=True)"
   ]
  },
  {
   "cell_type": "code",
   "execution_count": 435,
   "metadata": {},
   "outputs": [
    {
     "data": {
      "text/plain": [
       "array(['MAM', 'M45', 'M40', 'M50', 'M55', 'WAM'], dtype=object)"
      ]
     },
     "execution_count": 435,
     "metadata": {},
     "output_type": "execute_result"
    }
   ],
   "source": [
    "# Print unique categories values from this column\n",
    "# this time nan unique rows are removed from dataframe\n",
    "df['Category'].unique()"
   ]
  },
  {
   "cell_type": "code",
   "execution_count": 436,
   "metadata": {},
   "outputs": [
    {
     "data": {
      "text/plain": [
       "0    1.67\n",
       "Name: Wall21, dtype: object"
      ]
     },
     "execution_count": 436,
     "metadata": {},
     "output_type": "execute_result"
    }
   ],
   "source": [
    "# Get the mode to replace '-' values\n",
    "mod_value = df[\"Wall21\"].mode()\n",
    "mod_value"
   ]
  },
  {
   "cell_type": "code",
   "execution_count": 437,
   "metadata": {},
   "outputs": [],
   "source": [
    "#  Replace '-' values\n",
    "df.replace({\"-\":mod_value}, inplace=True)"
   ]
  },
  {
   "cell_type": "code",
   "execution_count": 438,
   "metadata": {},
   "outputs": [],
   "source": [
    "# change datatype to float64 for Wall21 Column\n",
    "df = df.astype({'Wall21' : 'float64'}, copy=True)"
   ]
  },
  {
   "cell_type": "code",
   "execution_count": 439,
   "metadata": {},
   "outputs": [
    {
     "data": {
      "text/plain": [
       "array([1.16, 1.23, 1.3 , 1.32, 1.36, 1.38, 1.41, 1.35, 1.42, 1.4 , 1.37,\n",
       "       1.44, 1.45, 1.5 , 1.48, 1.52, 1.54, 1.57, 1.62, 1.6 , 1.51, 1.58,\n",
       "       1.56, 1.61, 1.59, 1.68, 1.78, 1.67, 1.66, 1.55, 1.64, 1.65, 1.77,\n",
       "       1.71, 1.72, 1.76, 1.63, 1.69, 1.88, 1.93, 1.74, 1.75, 1.8 , 1.81,\n",
       "       1.94, 1.9 , 1.85, 1.97, 1.98, 2.05, 2.02])"
      ]
     },
     "execution_count": 439,
     "metadata": {},
     "output_type": "execute_result"
    }
   ],
   "source": [
    "# Print Wall21 values\n",
    "df['Wall21'].unique()"
   ]
  },
  {
   "cell_type": "code",
   "execution_count": 440,
   "metadata": {},
   "outputs": [],
   "source": [
    "# Get Ground truth , Target labels: Marathon Time\n",
    "y = df.iloc[:, 4].values"
   ]
  },
  {
   "cell_type": "code",
   "execution_count": 441,
   "metadata": {},
   "outputs": [],
   "source": [
    "# Remove MarathonTime Column from DataFrame\n",
    "X = df.drop(columns=\"MarathonTime\")\n",
    "X = X.values"
   ]
  },
  {
   "cell_type": "code",
   "execution_count": 442,
   "metadata": {},
   "outputs": [
    {
     "data": {
      "text/plain": [
       "array([['MAM', 132.8, 14.43478261, 1.16, 'A'],\n",
       "       ['MAM', 68.6, 13.6744186, 1.23, 'A'],\n",
       "       ['MAM', 82.7, 13.52043597, 1.3, 'A'],\n",
       "       ['M45', 137.5, 12.25854383, 1.32, 'A'],\n",
       "       ['MAM', 84.6, 13.94505495, 1.36, 'A'],\n",
       "       ['M40', 42.2, 13.61290323, 1.32, 'A'],\n",
       "       ['M40', 89.0, 12.59433962, 1.38, 'A'],\n",
       "       ['M45', 106.0, 12.69461078, 1.41, 'A'],\n",
       "       ['MAM', 70.0, 13.7704918, 1.38, 'A'],\n",
       "       ['M45', 84.2, 13.36507937, 1.35, 'A'],\n",
       "       ['MAM', 93.5, 13.2, 1.42, 'A'],\n",
       "       ['M50', 65.7, 13.36271186, 1.4, 'A'],\n",
       "       ['M45', 53.5, 14.07894737, 1.37, 'A'],\n",
       "       ['M40', 84.4, 13.83606557, 1.41, 'A'],\n",
       "       ['MAM', 76.8, 12.94382022, 1.44, 'A'],\n",
       "       ['MAM', 76.1, 14.9704918, 1.45, 'A'],\n",
       "       ['M55', 112.3, 12.59439252, 1.44, 'A'],\n",
       "       ['M40', 49.7, 14.33653846, 1.44, 'A'],\n",
       "       ['MAM', 84.5, 12.54950495, 1.45, 'A'],\n",
       "       ['MAM', 76.7, 8.031413613, 1.41, 'A'],\n",
       "       ['MAM', 94.5, 11.88679245, 1.45, 'A'],\n",
       "       ['M40', 67.3, 13.23934426, 1.5, 'B'],\n",
       "       ['M40', 59.4, 12.63829787, 1.5, 'B'],\n",
       "       ['M45', 66.1, 12.12844037, 1.48, 'B'],\n",
       "       ['MAM', 67.4, 12.87898089, 1.52, 'B'],\n",
       "       ['WAM', 129.6, 12.18808777, 1.54, 'B'],\n",
       "       ['MAM', 82.4, 11.77142857, 1.52, 'B'],\n",
       "       ['M45', 51.6, 13.00840336, 1.5, 'B'],\n",
       "       ['M50', 104.9, 11.72067039, 1.57, 'B'],\n",
       "       ['MAM', 52.5, 12.5498008, 1.62, 'B'],\n",
       "       ['MAM', 79.4, 13.34453782, 1.6, 'B'],\n",
       "       ['M45', 65.6, 11.89123867, 1.51, 'B'],\n",
       "       ['M50', 112.4, 12.28415301, 1.58, 'B'],\n",
       "       ['MAM', 50.1, 11.88142292, 1.62, 'B'],\n",
       "       ['MAM', 50.1, 12.17004049, 1.56, 'B'],\n",
       "       ['M45', 52.1, 12.16342412, 1.61, 'B'],\n",
       "       ['MAM', 64.7, 13.29452055, 1.5, 'B'],\n",
       "       ['WAM', 69.2, 10.05326877, 1.6, 'B'],\n",
       "       ['M45', 61.3, 12.38383838, 1.59, 'B'],\n",
       "       ['M55', 58.8, 12.82909091, 1.68, 'B'],\n",
       "       ['MAM', 82.7, 11.64788732, 1.78, 'B'],\n",
       "       ['MAM', 32.2, 12.71052632, 1.62, 'B'],\n",
       "       ['M40', 27.7, 11.62237762, 1.67, 'B'],\n",
       "       ['MAM', 68.0, 11.79190751, 1.67, 'B'],\n",
       "       ['WAM', 48.6, 12.25210084, 1.66, 'B'],\n",
       "       ['M45', 39.6, 12.24742268, 1.67, 'B'],\n",
       "       ['M45', 60.1, 12.18243243, 1.55, 'B'],\n",
       "       ['MAM', 78.2, 12.0, 1.64, 'C'],\n",
       "       ['MAM', 50.3, 10.16161616, 1.67, 'C'],\n",
       "       ['M40', 121.7, 9.907734057, 1.65, 'C'],\n",
       "       ['M40', 70.7, 11.78333333, 1.77, 'C'],\n",
       "       ['MAM', 26.9, 13.12195122, 1.67, 'C'],\n",
       "       ['MAM', 56.2, 12.08602151, 1.71, 'C'],\n",
       "       ['MAM', 36.3, 11.64705882, 1.72, 'C'],\n",
       "       ['MAM', 22.7, 12.72897196, 1.67, 'C'],\n",
       "       ['M40', 45.2, 11.02439024, 1.77, 'C'],\n",
       "       ['M40', 43.2, 10.93670886, 1.76, 'C'],\n",
       "       ['MAM', 54.1, 11.11643836, 1.63, 'C'],\n",
       "       ['M45', 48.8, 11.66533865, 1.66, 'C'],\n",
       "       ['MAM', 20.7, 12.42, 1.69, 'C'],\n",
       "       ['M40', 54.2, 11.7826087, 1.69, 'C'],\n",
       "       ['M45', 60.3, 11.70873786, 1.88, 'C'],\n",
       "       ['MAM', 48.5, 11.02272727, 1.93, 'C'],\n",
       "       ['MAM', 34.3, 11.30769231, 1.74, 'C'],\n",
       "       ['MAM', 59.1, 10.91076923, 1.75, 'C'],\n",
       "       ['MAM', 41.6, 12.23529412, 1.8, 'C'],\n",
       "       ['M45', 87.0, 11.47252747, 1.81, 'D'],\n",
       "       ['M50', 24.2, 11.52380952, 1.76, 'D'],\n",
       "       ['WAM', 52.3, 11.70895522, 1.94, 'D'],\n",
       "       ['MAM', 66.7, 11.56647399, 1.9, 'D'],\n",
       "       ['MAM', 23.9, 12.05042017, 1.85, 'D'],\n",
       "       ['MAM', 40.3, 8.337931034, 1.94, 'D'],\n",
       "       ['MAM', 30.6, 11.06024096, 1.97, 'D'],\n",
       "       ['MAM', 28.0, 11.2, 1.97, 'D'],\n",
       "       ['MAM', 53.9, 11.80291971, 1.98, 'D'],\n",
       "       ['MAM', 35.6, 11125.0, 2.05, 'D'],\n",
       "       ['M55', 50.0, 10.83032491, 2.02, 'D'],\n",
       "       ['M40', 33.6, 10.13065327, 1.94, 'D'],\n",
       "       ['M40', 55.4, 11.04318937, 1.94, 'D'],\n",
       "       ['M45', 33.2, 11.06666667, 2.05, 'D'],\n",
       "       ['M40', 17.9, 10.84848485, 2.05, 'D']], dtype=object)"
      ]
     },
     "execution_count": 442,
     "metadata": {},
     "output_type": "execute_result"
    }
   ],
   "source": [
    "# Print X features vector\n",
    "X"
   ]
  },
  {
   "cell_type": "code",
   "execution_count": 443,
   "metadata": {},
   "outputs": [
    {
     "data": {
      "text/plain": [
       "array([2.37, 2.59, 2.66, 2.68, 2.74, 2.78, 2.81, 2.84, 2.83, 2.86, 2.87,\n",
       "       2.87, 2.88, 2.88, 2.89, 2.9 , 2.91, 2.91, 2.93, 2.94, 2.99, 3.04,\n",
       "       3.05, 3.09, 3.1 , 3.12, 3.14, 3.15, 3.16, 3.19, 3.19, 3.21, 3.21,\n",
       "       3.22, 3.23, 3.24, 3.24, 3.25, 3.28, 3.28, 3.32, 3.32, 3.32, 3.33,\n",
       "       3.33, 3.35, 3.36, 3.39, 3.4 , 3.46, 3.47, 3.5 , 3.5 , 3.51, 3.52,\n",
       "       3.52, 3.55, 3.55, 3.56, 3.56, 3.59, 3.62, 3.64, 3.64, 3.65, 3.67,\n",
       "       3.68, 3.69, 3.69, 3.76, 3.78, 3.8 , 3.87, 3.89, 3.9 , 3.92, 3.93,\n",
       "       3.93, 3.94, 3.95, 3.98])"
      ]
     },
     "execution_count": 443,
     "metadata": {},
     "output_type": "execute_result"
    }
   ],
   "source": [
    "# Print y target labels\n",
    "y"
   ]
  },
  {
   "cell_type": "code",
   "execution_count": 444,
   "metadata": {},
   "outputs": [
    {
     "data": {
      "text/plain": [
       "array(['MAM', 'MAM', 'MAM', 'M45', 'MAM', 'M40', 'M40', 'M45', 'MAM',\n",
       "       'M45', 'MAM', 'M50', 'M45', 'M40', 'MAM', 'MAM', 'M55', 'M40',\n",
       "       'MAM', 'MAM', 'MAM', 'M40', 'M40', 'M45', 'MAM', 'WAM', 'MAM',\n",
       "       'M45', 'M50', 'MAM', 'MAM', 'M45', 'M50', 'MAM', 'MAM', 'M45',\n",
       "       'MAM', 'WAM', 'M45', 'M55', 'MAM', 'MAM', 'M40', 'MAM', 'WAM',\n",
       "       'M45', 'M45', 'MAM', 'MAM', 'M40', 'M40', 'MAM', 'MAM', 'MAM',\n",
       "       'MAM', 'M40', 'M40', 'MAM', 'M45', 'MAM', 'M40', 'M45', 'MAM',\n",
       "       'MAM', 'MAM', 'MAM', 'M45', 'M50', 'WAM', 'MAM', 'MAM', 'MAM',\n",
       "       'MAM', 'MAM', 'MAM', 'MAM', 'M55', 'M40', 'M40', 'M45', 'M40'],\n",
       "      dtype=object)"
      ]
     },
     "execution_count": 444,
     "metadata": {},
     "output_type": "execute_result"
    }
   ],
   "source": [
    "X[:,0]"
   ]
  },
  {
   "cell_type": "code",
   "execution_count": 445,
   "metadata": {},
   "outputs": [],
   "source": [
    "# Use Label Encoder for encode string labels with values between 0 and 0_classes-1\n",
    "label_encoder = LabelEncoder()\n",
    "# Encode Category column values\n",
    "X[:,0] = label_encoder.fit_transform(X[:,0])\n",
    "\n",
    "X[:,-1] = label_encoder.fit_transform(X[:,-1])"
   ]
  },
  {
   "cell_type": "code",
   "execution_count": 446,
   "metadata": {},
   "outputs": [
    {
     "data": {
      "text/plain": [
       "(81, 5)"
      ]
     },
     "execution_count": 446,
     "metadata": {},
     "output_type": "execute_result"
    }
   ],
   "source": [
    "# Print shape of features vector\n",
    "X.shape"
   ]
  },
  {
   "cell_type": "code",
   "execution_count": 447,
   "metadata": {},
   "outputs": [
    {
     "data": {
      "text/plain": [
       "(81,)"
      ]
     },
     "execution_count": 447,
     "metadata": {},
     "output_type": "execute_result"
    }
   ],
   "source": [
    "# Print shape of target vector\n",
    "y.shape"
   ]
  },
  {
   "cell_type": "code",
   "execution_count": 448,
   "metadata": {},
   "outputs": [],
   "source": [
    "# Create a split for training a CatBoostRegressor\n",
    "X_train, X_test, y_train, y_test = train_test_split(X, y, test_size=15)\n"
   ]
  },
  {
   "cell_type": "code",
   "execution_count": 449,
   "metadata": {},
   "outputs": [
    {
     "name": "stdout",
     "output_type": "stream",
     "text": [
      "0:\tlearn: 0.3177347\ttotal: 346us\tremaining: 17ms\n",
      "1:\tlearn: 0.2645547\ttotal: 581us\tremaining: 13.9ms\n",
      "2:\tlearn: 0.2157343\ttotal: 798us\tremaining: 12.5ms\n",
      "3:\tlearn: 0.1819373\ttotal: 923us\tremaining: 10.6ms\n",
      "4:\tlearn: 0.1576943\ttotal: 1.04ms\tremaining: 9.41ms\n",
      "5:\tlearn: 0.1392897\ttotal: 1.16ms\tremaining: 8.49ms\n",
      "6:\tlearn: 0.1221455\ttotal: 1.38ms\tremaining: 8.49ms\n",
      "7:\tlearn: 0.1106106\ttotal: 1.5ms\tremaining: 7.89ms\n",
      "8:\tlearn: 0.1024631\ttotal: 1.62ms\tremaining: 7.39ms\n",
      "9:\tlearn: 0.0959535\ttotal: 1.73ms\tremaining: 6.94ms\n",
      "10:\tlearn: 0.0932585\ttotal: 1.84ms\tremaining: 6.54ms\n",
      "11:\tlearn: 0.0884180\ttotal: 2.08ms\tremaining: 6.59ms\n",
      "12:\tlearn: 0.0835765\ttotal: 2.2ms\tremaining: 6.26ms\n",
      "13:\tlearn: 0.0813244\ttotal: 2.31ms\tremaining: 5.95ms\n",
      "14:\tlearn: 0.0792845\ttotal: 2.44ms\tremaining: 5.7ms\n",
      "15:\tlearn: 0.0764639\ttotal: 2.57ms\tremaining: 5.46ms\n",
      "16:\tlearn: 0.0743575\ttotal: 2.71ms\tremaining: 5.27ms\n",
      "17:\tlearn: 0.0730390\ttotal: 2.87ms\tremaining: 5.11ms\n",
      "18:\tlearn: 0.0721670\ttotal: 3ms\tremaining: 4.89ms\n",
      "19:\tlearn: 0.0711445\ttotal: 3.13ms\tremaining: 4.69ms\n",
      "20:\tlearn: 0.0695845\ttotal: 3.24ms\tremaining: 4.48ms\n",
      "21:\tlearn: 0.0675939\ttotal: 3.34ms\tremaining: 4.25ms\n",
      "22:\tlearn: 0.0654422\ttotal: 3.45ms\tremaining: 4.05ms\n",
      "23:\tlearn: 0.0648152\ttotal: 3.56ms\tremaining: 3.85ms\n",
      "24:\tlearn: 0.0633261\ttotal: 3.67ms\tremaining: 3.67ms\n",
      "25:\tlearn: 0.0628764\ttotal: 3.77ms\tremaining: 3.48ms\n",
      "26:\tlearn: 0.0615571\ttotal: 3.88ms\tremaining: 3.3ms\n",
      "27:\tlearn: 0.0606348\ttotal: 3.98ms\tremaining: 3.13ms\n",
      "28:\tlearn: 0.0599192\ttotal: 4.09ms\tremaining: 2.96ms\n",
      "29:\tlearn: 0.0592588\ttotal: 4.19ms\tremaining: 2.79ms\n",
      "30:\tlearn: 0.0568257\ttotal: 4.3ms\tremaining: 2.63ms\n",
      "31:\tlearn: 0.0563260\ttotal: 4.4ms\tremaining: 2.48ms\n",
      "32:\tlearn: 0.0553682\ttotal: 4.54ms\tremaining: 2.34ms\n",
      "33:\tlearn: 0.0550091\ttotal: 4.64ms\tremaining: 2.18ms\n",
      "34:\tlearn: 0.0540815\ttotal: 4.74ms\tremaining: 2.03ms\n",
      "35:\tlearn: 0.0522911\ttotal: 4.83ms\tremaining: 1.88ms\n",
      "36:\tlearn: 0.0508828\ttotal: 4.94ms\tremaining: 1.74ms\n",
      "37:\tlearn: 0.0503473\ttotal: 5.05ms\tremaining: 1.6ms\n",
      "38:\tlearn: 0.0487261\ttotal: 5.16ms\tremaining: 1.46ms\n",
      "39:\tlearn: 0.0471255\ttotal: 5.27ms\tremaining: 1.32ms\n",
      "40:\tlearn: 0.0463880\ttotal: 5.38ms\tremaining: 1.18ms\n",
      "41:\tlearn: 0.0455143\ttotal: 5.46ms\tremaining: 1.04ms\n",
      "42:\tlearn: 0.0452553\ttotal: 5.55ms\tremaining: 903us\n",
      "43:\tlearn: 0.0442503\ttotal: 5.7ms\tremaining: 776us\n",
      "44:\tlearn: 0.0433212\ttotal: 5.95ms\tremaining: 661us\n",
      "45:\tlearn: 0.0426824\ttotal: 6.25ms\tremaining: 543us\n",
      "46:\tlearn: 0.0421244\ttotal: 6.36ms\tremaining: 405us\n",
      "47:\tlearn: 0.0409627\ttotal: 6.47ms\tremaining: 269us\n",
      "48:\tlearn: 0.0403322\ttotal: 6.66ms\tremaining: 135us\n",
      "49:\tlearn: 0.0397569\ttotal: 6.76ms\tremaining: 0us\n"
     ]
    }
   ],
   "source": [
    "\n",
    "# Initialize CatBoostRegressor \n",
    "model = CatBoostRegressor(iterations=50,\n",
    "                          learning_rate=0.3,\n",
    "                          depth=3)\n",
    "\n",
    "# Fit model\n",
    "model.fit(X_train, y_train)\n",
    "\n",
    "# Get Predictions\n",
    "preds = model.predict(X_test)\n"
   ]
  },
  {
   "cell_type": "code",
   "execution_count": 450,
   "metadata": {},
   "outputs": [
    {
     "data": {
      "text/plain": [
       "array([2.90327744, 3.61399269, 3.60089444, 3.43673058, 2.88092411,\n",
       "       3.56651449, 3.76089332, 3.46050017, 3.30419952, 3.86751116,\n",
       "       3.40947514, 3.38357176, 3.12854908, 2.68188027, 2.82812938])"
      ]
     },
     "execution_count": 450,
     "metadata": {},
     "output_type": "execute_result"
    }
   ],
   "source": [
    "# Print predictios\n",
    "preds\n"
   ]
  },
  {
   "cell_type": "code",
   "execution_count": 451,
   "metadata": {},
   "outputs": [
    {
     "data": {
      "text/plain": [
       "array([2.91, 3.52, 3.5 , 3.55, 2.88, 3.67, 3.76, 3.32, 3.33, 3.89, 3.52,\n",
       "       3.32, 3.14, 2.66, 2.87])"
      ]
     },
     "execution_count": 451,
     "metadata": {},
     "output_type": "execute_result"
    }
   ],
   "source": [
    "# Print targets\n",
    "y_test"
   ]
  },
  {
   "cell_type": "code",
   "execution_count": 452,
   "metadata": {},
   "outputs": [],
   "source": [
    "# Compute metrics\n",
    "# R2 score, me, mse, mae\n",
    "r2_score_res = r2_score(y_test, preds)\n",
    "mean_error_res = mean_error_(y_test, preds)\n",
    "mae_res = mean_absolute_error(y_test, preds)\n",
    "mse_res = mean_squared_error(y_test, preds)"
   ]
  },
  {
   "cell_type": "code",
   "execution_count": 453,
   "metadata": {},
   "outputs": [
    {
     "data": {
      "text/plain": [
       "0.9553263473836324"
      ]
     },
     "execution_count": 453,
     "metadata": {},
     "output_type": "execute_result"
    }
   ],
   "source": [
    "r2_score_res"
   ]
  },
  {
   "cell_type": "code",
   "execution_count": 454,
   "metadata": {},
   "outputs": [
    {
     "data": {
      "text/plain": [
       "-0.0008637626821678938"
      ]
     },
     "execution_count": 454,
     "metadata": {},
     "output_type": "execute_result"
    }
   ],
   "source": [
    "mean_error_res"
   ]
  },
  {
   "cell_type": "code",
   "execution_count": 455,
   "metadata": {},
   "outputs": [
    {
     "data": {
      "text/plain": [
       "0.057217996390011225"
      ]
     },
     "execution_count": 455,
     "metadata": {},
     "output_type": "execute_result"
    }
   ],
   "source": [
    "mae_res"
   ]
  },
  {
   "cell_type": "code",
   "execution_count": 456,
   "metadata": {},
   "outputs": [
    {
     "data": {
      "text/plain": [
       "0.0054754808340560695"
      ]
     },
     "execution_count": 456,
     "metadata": {},
     "output_type": "execute_result"
    }
   ],
   "source": [
    "mse_res"
   ]
  }
 ],
 "metadata": {
  "kernelspec": {
   "display_name": "Python 3",
   "language": "python",
   "name": "python3"
  },
  "language_info": {
   "codemirror_mode": {
    "name": "ipython",
    "version": 3
   },
   "file_extension": ".py",
   "mimetype": "text/x-python",
   "name": "python",
   "nbconvert_exporter": "python",
   "pygments_lexer": "ipython3",
   "version": "3.10.6"
  },
  "orig_nbformat": 4
 },
 "nbformat": 4,
 "nbformat_minor": 2
}
